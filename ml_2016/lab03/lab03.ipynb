{
 "cells": [
  {
   "cell_type": "markdown",
   "metadata": {
    "collapsed": true
   },
   "source": [
    "Grid-search для прааметра k:\n",
    "1) Метрика Евклида\n",
    "2)Манхэттенское расстояние"
   ]
  },
  {
   "cell_type": "code",
   "execution_count": 15,
   "metadata": {},
   "outputs": [
    {
     "name": "stdout",
     "output_type": "stream",
     "text": [
      "3\n"
     ]
    },
    {
     "name": "stdout",
     "output_type": "stream",
     "text": [
      "7\n"
     ]
    }
   ],
   "source": [
    "from cv_and_grid_search_k import *\n",
    "from random import shuffle\n",
    "from sklearn import datasets\n",
    "from knn import *\n",
    "\n",
    "\n",
    "iris = datasets.load_iris()\n",
    "__x__ = iris.data\n",
    "__y__ = iris.target\n",
    "iris_data = []\n",
    "for i in range(len(__y__)):\n",
    "    iris_data.append([__x__[i], __y__[i]])\n",
    "shuffle(iris_data)\n",
    "train_data, test_data = split_data(iris_data, 30)\n",
    "\n",
    "print(grid_search(train_data, test_data, 3, 4, distance_evkl))\n",
    "print(grid_search(train_data, test_data, 3, 4, distance_mnht))"
   ]
  },
  {
   "cell_type": "markdown",
   "metadata": {},
   "source": [
    "Кросс-валидация невзвешенного kNN(метрика Евклида):"
   ]
  },
  {
   "cell_type": "code",
   "execution_count": 16,
   "metadata": {},
   "outputs": [
    {
     "name": "stdout",
     "output_type": "stream",
     "text": [
      "0.05555555555555556\n"
     ]
    }
   ],
   "source": [
    "print(cv(10, 30, iris_data, kNN, 3, 3, 4, distance_evkl))"
   ]
  },
  {
   "cell_type": "markdown",
   "metadata": {},
   "source": [
    "Кросс-валидация невзвешенного kNN(Манхэттенское расстояние):"
   ]
  },
  {
   "cell_type": "code",
   "execution_count": 24,
   "metadata": {},
   "outputs": [
    {
     "name": "stdout",
     "output_type": "stream",
     "text": [
      "0.11111111111111112\n"
     ]
    }
   ],
   "source": [
    "print(cv(10, 30, iris_data, kNN, 7, 3, 4, distance_mnht))"
   ]
  },
  {
   "cell_type": "markdown",
   "metadata": {},
   "source": [
    "Реализация sklearn дает точность 0,97. В это же время данная реализация дает точность 0,94 в случае метрики Евклида и 0,88 в случае Манхэттенского расстояния."
   ]
  },
  {
   "cell_type": "markdown",
   "metadata": {},
   "source": [
    "Другие параметры:"
   ]
  },
  {
   "cell_type": "code",
   "execution_count": 13,
   "metadata": {},
   "outputs": [
    {
     "name": "stdout",
     "output_type": "stream",
     "text": [
      "Невзвешенный kNN: 0.9555555555555556\nВзвешенный kNN: 0.9555555555555556\n"
     ]
    }
   ],
   "source": [
    "target = []\n",
    "res = kNN(train_data, test_data, 10, 3, 4, distance_evkl)\n",
    "res1 = weighted_kNN(train_data, test_data, 10, 3, 4, distance_evkl, 1)\n",
    "for i in range(len(test_data)):\n",
    "    target.append(test_data[i][1])\n",
    "print(\"Невзвешенный kNN, метрика Евклида:\", accuracy(res, target))\n",
    "print(\"Взвешенный kNNб метрика Евклида:\", accuracy(res1, target))"
   ]
  },
  {
   "cell_type": "code",
   "execution_count": 15,
   "metadata": {},
   "outputs": [
    {
     "name": "stdout",
     "output_type": "stream",
     "text": [
      "Невзвешенный kNN, Манхэттенское расстояние: 0.9333333333333333\nВзвешенный kNN, Манхэттенское расстояние: 0.9333333333333333\n"
     ]
    }
   ],
   "source": [
    "target = []\n",
    "res = kNN(train_data, test_data, 10, 3, 4, distance_mnht)\n",
    "res1 = weighted_kNN(train_data, test_data, 10, 3, 4, distance_mnht, 1)\n",
    "for i in range(len(test_data)):\n",
    "    target.append(test_data[i][1])\n",
    "print(\"Невзвешенный kNN, Манхэттенское расстояние:\", accuracy(res, target))\n",
    "print(\"Взвешенный kNN, Манхэттенское расстояние:\", accuracy(res1, target))"
   ]
  },
  {
   "cell_type": "code",
   "execution_count": null,
   "metadata": {},
   "outputs": [],
   "source": [
    ""
   ]
  }
 ],
 "metadata": {
  "kernelspec": {
   "display_name": "Python 2",
   "language": "python",
   "name": "python2"
  },
  "language_info": {
   "codemirror_mode": {
    "name": "ipython",
    "version": 2.0
   },
   "file_extension": ".py",
   "mimetype": "text/x-python",
   "name": "python",
   "nbconvert_exporter": "python",
   "pygments_lexer": "ipython2",
   "version": "2.7.6"
  }
 },
 "nbformat": 4,
 "nbformat_minor": 0
}