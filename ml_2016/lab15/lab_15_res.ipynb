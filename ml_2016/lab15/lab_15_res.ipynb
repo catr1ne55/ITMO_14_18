{
 "cells": [
  {
   "cell_type": "heading",
   "metadata": {
    "collapsed": true
   },
   "level": 1,
   "source": [
    "Генетический алгоритм"
   ]
  },
  {
   "cell_type": "markdown",
   "metadata": {},
   "source": [
    "Функция двух переменных, минимум достигается в точке (0, 0):"
   ]
  },
  {
   "cell_type": "code",
   "execution_count": 13,
   "metadata": {},
   "outputs": [
    {
     "name": "stdout",
     "output_type": "stream",
     "text": [
      "[0 0]\n"
     ]
    }
   ],
   "source": [
    "import lab15\n",
    "\n",
    "\n",
    "def f1(x, n):\n",
    "    func = 0\n",
    "    for i in range(n):\n",
    "        func += 10 * x[i] * x[i] + 5\n",
    "    return func\n",
    "\n",
    "lab15.genetic_alg(f1, 2, 5)"
   ]
  },
  {
   "cell_type": "markdown",
   "metadata": {},
   "source": [
    "Функция трех переменных, минимум достигается в точке (0, 0, 1):"
   ]
  },
  {
   "cell_type": "code",
   "execution_count": 15,
   "metadata": {},
   "outputs": [
    {
     "name": "stdout",
     "output_type": "stream",
     "text": [
      "[0 0 1]\n"
     ]
    }
   ],
   "source": [
    "def f2(x, n):\n",
    "    func2 = 0\n",
    "    for i in range(n):\n",
    "        if i % 3 == 0:\n",
    "            func2 += x[i] * x[i] + 2*x[i]\n",
    "        elif i % 3 == 1:\n",
    "            func2 += x[i] * x[i] + 4*x[i]\n",
    "        elif i % 3 == 2:\n",
    "            func2 += x[i] * x[i] - 6*x[i]\n",
    "    return func2\n",
    "\n",
    "lab15.genetic_alg(f2, 3, 10)"
   ]
  }
 ],
 "metadata": {
  "kernelspec": {
   "display_name": "Python 2",
   "language": "python",
   "name": "python2"
  },
  "language_info": {
   "codemirror_mode": {
    "name": "ipython",
    "version": 2.0
   },
   "file_extension": ".py",
   "mimetype": "text/x-python",
   "name": "python",
   "nbconvert_exporter": "python",
   "pygments_lexer": "ipython2",
   "version": "2.7.6"
  }
 },
 "nbformat": 4,
 "nbformat_minor": 0
}