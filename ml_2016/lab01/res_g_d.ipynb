{
 "cells": [
  {
   "cell_type": "heading",
   "metadata": {
    "collapsed": true
   },
   "level": 1,
   "source": [
    "Метод градиентного спуска"
   ]
  },
  {
   "cell_type": "code",
   "execution_count": null,
   "metadata": {},
   "outputs": [],
   "source": [
    "from gradient_descent import *\n",
    "\n",
    "\n",
    "def f_1(x):\n",
    "    return x ** 3 - 4 * x ** 2 + 2 * x\n",
    "\n",
    "\n",
    "def grad_f_1(x):\n",
    "    return 3 * x ** 2 - 8 * x + 2"
   ]
  },
  {
   "cell_type": "heading",
   "metadata": {},
   "level": 2,
   "source": [
    "Лямбда - константа:"
   ]
  },
  {
   "cell_type": "code",
   "execution_count": 3,
   "metadata": {},
   "outputs": [
    {
     "name": "stdout",
     "output_type": "stream",
     "text": [
      "[ 2.38307892]\n"
     ]
    }
   ],
   "source": [
    "print(grad_des_1(1, f_1, grad_f_1, np.array([2]), 0.1, 0.01))"
   ]
  },
  {
   "cell_type": "heading",
   "metadata": {},
   "level": 2,
   "source": [
    "Лямбда уменьшается в константное число раз с каждым шагом:"
   ]
  },
  {
   "cell_type": "code",
   "execution_count": 7,
   "metadata": {},
   "outputs": [
    {
     "name": "stdout",
     "output_type": "stream",
     "text": [
      "[ 2.38307174]\n"
     ]
    }
   ],
   "source": [
    "print(grad_des_2(1, f_1, grad_f_1, np.array([2]), 0.1, 0.01))"
   ]
  },
  {
   "cell_type": "heading",
   "metadata": {},
   "level": 2,
   "source": [
    "Градиентный спуск с оптимальным шагом:"
   ]
  },
  {
   "cell_type": "code",
   "execution_count": 8,
   "metadata": {},
   "outputs": [
    {
     "name": "stdout",
     "output_type": "stream",
     "text": [
      "[ 0.26659154]\n"
     ]
    }
   ],
   "source": [
    "print(grad_des_3(1, f_1, grad_f_1, np.array([0]), np.array([4]), np.array([2]), 0.1))"
   ]
  },
  {
   "cell_type": "heading",
   "metadata": {},
   "level": 2,
   "source": [
    "Градиентный спуск с методом Монте-Карло:"
   ]
  },
  {
   "cell_type": "code",
   "execution_count": 9,
   "metadata": {},
   "outputs": [
    {
     "name": "stdout",
     "output_type": "stream",
     "text": [
      "3.06411191069\n"
     ]
    }
   ],
   "source": [
    "print(grad_des_m_c(1, f_1, grad_f_1, np.array([0]), np.array([4]), np.array([2]), 0.5, 0.1))"
   ]
  },
  {
   "cell_type": "code",
   "execution_count": null,
   "metadata": {},
   "outputs": [],
   "source": [
    ""
   ]
  }
 ],
 "metadata": {
  "kernelspec": {
   "display_name": "Python 2",
   "language": "python",
   "name": "python2"
  },
  "language_info": {
   "codemirror_mode": {
    "name": "ipython",
    "version": 2.0
   },
   "file_extension": ".py",
   "mimetype": "text/x-python",
   "name": "python",
   "nbconvert_exporter": "python",
   "pygments_lexer": "ipython2",
   "version": "2.7.6"
  }
 },
 "nbformat": 4,
 "nbformat_minor": 0
}